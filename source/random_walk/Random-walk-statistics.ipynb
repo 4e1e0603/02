{
 "cells": [
  {
   "cell_type": "markdown",
   "metadata": {},
   "source": [
    "# Random walk statistics"
   ]
  },
  {
   "cell_type": "markdown",
   "metadata": {},
   "source": []
  },
  {
   "cell_type": "code",
   "execution_count": 3,
   "metadata": {},
   "outputs": [],
   "source": [
    "from matplotlib import pyplot as plt"
   ]
  },
  {
   "cell_type": "code",
   "execution_count": 25,
   "metadata": {},
   "outputs": [],
   "source": [
    "# Pro každou realizaci náhodné procházky načti řádek obsahující souřadnice x, y a vzdálenost.\n",
    "# Pro každou procházku pak spočti  \n",
    "\n",
    "\n",
    "\n",
    "# The encoding depends on terminal settings, here i Used Windows.\n",
    "# Better to code it in Fortran when writing to the file.\n",
    "\n",
    "with open(\"data.txt\", encoding=\"utf-16\") as f:\n",
    "    data = f.read()\n",
    "\n",
    "data = [_ for _ in data.split(\"\\n\\n\")]\n",
    "walks = [walk for walk in [line.split(\"|\") for line in [_ for _ in data[0].split(\"\\n\")] if line != \" \"]]\n"
   ]
  },
  {
   "cell_type": "code",
   "execution_count": 26,
   "metadata": {},
   "outputs": [
    {
     "data": {
      "text/plain": [
       "[['-1.0', '-1.0', '1.4142'],\n",
       " ['-1.0', '-1.0', '1.4142'],\n",
       " ['-1.0', '1.0', '1.4142'],\n",
       " ['.0', '-2.0', '2.0000'],\n",
       " ['-2.0', '.0', '2.0000'],\n",
       " ['-1.0', '-1.0', '1.4142'],\n",
       " ['-1.0', '-1.0', '1.4142'],\n",
       " ['-2.0', '-2.0', '2.8284'],\n",
       " ['-2.0', '-2.0', '2.8284'],\n",
       " ['.0', '.0', '.0000'],\n",
       " ['']]"
      ]
     },
     "execution_count": 26,
     "metadata": {},
     "output_type": "execute_result"
    }
   ],
   "source": [
    "#plt.plot(walk1[0][0], , label= 'Random walk')\n",
    "walks"
   ]
  },
  {
   "cell_type": "code",
   "execution_count": null,
   "metadata": {},
   "outputs": [],
   "source": []
  },
  {
   "cell_type": "code",
   "execution_count": null,
   "metadata": {},
   "outputs": [],
   "source": []
  }
 ],
 "metadata": {
  "interpreter": {
   "hash": "993309eea27adeeeb2deb8f83f7bb18b2006cdb04c57e96dfaa5909b0bf530df"
  },
  "kernelspec": {
   "display_name": "Python 3.9.1 64-bit (system)",
   "name": "python3"
  },
  "language_info": {
   "codemirror_mode": {
    "name": "ipython",
    "version": 3
   },
   "file_extension": ".py",
   "mimetype": "text/x-python",
   "name": "python",
   "nbconvert_exporter": "python",
   "pygments_lexer": "ipython3",
   "version": "3.9.1"
  },
  "orig_nbformat": 4
 },
 "nbformat": 4,
 "nbformat_minor": 2
}
